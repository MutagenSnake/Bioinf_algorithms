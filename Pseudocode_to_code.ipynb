{
 "cells": [
  {
   "cell_type": "code",
   "execution_count": 1,
   "id": "fe6646ea-a892-42d7-9cc5-56ae9966db21",
   "metadata": {},
   "outputs": [],
   "source": [
    "def patternCount(text, pattern):\n",
    "    count = 0\n",
    "    for number in range(0, (len(text) - len(pattern))):\n",
    "        if text[number:(number+len(pattern))] == pattern:\n",
    "            count = count +1\n",
    "    return count"
   ]
  },
  {
   "cell_type": "code",
   "execution_count": 2,
   "id": "58015eb2-5eb8-477e-b9c3-3ba3c7c7749a",
   "metadata": {},
   "outputs": [],
   "source": [
    "text_example = 'atcaatgatcaacgtaagcttctaagcATGATCAAGgtgctcacacagtttatccacaacctgagtggatgacatcaagataggtcgttgtatctccttcctctcgtactctcatgaccacggaaagATGATCAAGagaggatgatttcttggccatatcgcaatgaatacttgtgacttgtgcttccaattgacatcttcagcgccatattgcgctggccaaggtgacggagcgggattacgaaagcatgatcatggctgttgttctgtttatcttgttttgactgagacttgttaggatagacggtttttcatcactgactagccaaagccttactctgcctgacatcgaccgtaaattgataatgaatttacatgcttccgcgacgatttacctcttgatcatcgatccgattgaagatcttcaattgttaattctcttgcctcgactcatagccatgatgagctcttgatcatgtttccttaaccctctattttttacggaagaATGATCAAGctgctgctcttgatcatcgtttc'\n",
    "pattern_example = 'ACTAT'"
   ]
  },
  {
   "cell_type": "code",
   "execution_count": 3,
   "id": "806133b3-ea23-4ea3-b18e-ad8b1bd6b373",
   "metadata": {},
   "outputs": [
    {
     "data": {
      "text/plain": [
       "0"
      ]
     },
     "execution_count": 3,
     "metadata": {},
     "output_type": "execute_result"
    }
   ],
   "source": [
    "patternCount('AACAAGCATAAACATTAAAGAG','AAAAA')"
   ]
  },
  {
   "cell_type": "code",
   "execution_count": 4,
   "id": "925ccf7f-da78-42ff-8fe9-3aa680740e25",
   "metadata": {},
   "outputs": [],
   "source": [
    "text_example_caps = text_example.upper()"
   ]
  },
  {
   "cell_type": "code",
   "execution_count": 5,
   "id": "d48d22a5-13ce-4b12-9f26-40711bbe8491",
   "metadata": {},
   "outputs": [
    {
     "data": {
      "text/plain": [
       "0"
      ]
     },
     "execution_count": 5,
     "metadata": {},
     "output_type": "execute_result"
    }
   ],
   "source": [
    "patternCount(text_example_caps,'AAAA')"
   ]
  },
  {
   "cell_type": "code",
   "execution_count": 6,
   "id": "b636bfdb-c7be-4e25-b69b-83f3e78dfbf6",
   "metadata": {},
   "outputs": [],
   "source": [
    "def frequentWords(text, k):\n",
    "    FrequentPatterns = []\n",
    "    count_list = []\n",
    "    for number in range(0, (len(text) - k)):\n",
    "        pattern = text[number:(number+k)]\n",
    "        count = patternCount(text, pattern)\n",
    "        count_list.append(count)\n",
    "    maxCount = max(count_list)\n",
    "    for number in range(0, (len(text) - k)):\n",
    "        pattern = text[number:(number+k)]\n",
    "        count = patternCount(text, pattern)\n",
    "        if count == maxCount:\n",
    "            FrequentPatterns.append(pattern)\n",
    "        FrequentPatternsClean = list( dict.fromkeys(FrequentPatterns) )\n",
    "    return FrequentPatternsClean"
   ]
  },
  {
   "cell_type": "code",
   "execution_count": 7,
   "id": "4ec9fac6-8687-42a9-9063-0761652670ed",
   "metadata": {},
   "outputs": [
    {
     "data": {
      "text/plain": [
       "['ATGATCAAG', 'CTCTTGATC', 'TCTTGATCA', 'CTTGATCAT']"
      ]
     },
     "execution_count": 7,
     "metadata": {},
     "output_type": "execute_result"
    }
   ],
   "source": [
    "frequentWords(text_example_caps, 9)"
   ]
  },
  {
   "cell_type": "code",
   "execution_count": 8,
   "id": "b0106c25-4a18-4f38-a11b-0353d7ff9521",
   "metadata": {},
   "outputs": [],
   "source": [
    "def hammingDistance(pattern1, pattern2):\n",
    "    hamming = 0\n",
    "    for number in range(len(pattern1)):\n",
    "        if pattern1[number] == pattern2[number]:\n",
    "            pass\n",
    "        else:\n",
    "            hamming += 1\n",
    "\n",
    "    return hamming"
   ]
  },
  {
   "cell_type": "code",
   "execution_count": 9,
   "id": "323f646a-7496-4e57-b8a6-f49511abdc53",
   "metadata": {},
   "outputs": [],
   "source": [
    "def approximatePatternCount(text, pattern, d):\n",
    "    count = 0\n",
    "    for number in range(0, (len(text)-len(pattern))):\n",
    "        pattern_to_check = text[number:(number + (len(pattern)))]\n",
    "        if hammingDistance(pattern, pattern_to_check) <= d:\n",
    "            count = count +1\n",
    "    return count"
   ]
  },
  {
   "cell_type": "code",
   "execution_count": 10,
   "id": "d90e0385-063f-48ef-ab00-1d2c26fd01b2",
   "metadata": {},
   "outputs": [
    {
     "data": {
      "text/plain": [
       "4"
      ]
     },
     "execution_count": 10,
     "metadata": {},
     "output_type": "execute_result"
    }
   ],
   "source": [
    "approximatePatternCount('AACAAGCATAAACATTAAAGAG','AAAAA',1)"
   ]
  },
  {
   "cell_type": "code",
   "execution_count": 11,
   "id": "fd471b73-093b-49ef-a5c6-3b4cea1a3ad9",
   "metadata": {},
   "outputs": [],
   "source": [
    "import itertools"
   ]
  },
  {
   "cell_type": "code",
   "execution_count": 12,
   "id": "13e40ba6-2806-4aa7-b2fb-78d689d1b0fe",
   "metadata": {},
   "outputs": [],
   "source": [
    "from pyspark.sql.functions import when"
   ]
  },
  {
   "cell_type": "code",
   "execution_count": 13,
   "id": "b411db98-db8c-44ae-b42c-49e1e286ca3a",
   "metadata": {},
   "outputs": [],
   "source": [
    "def computingFrequencies(text, k):\n",
    "    sequences = []\n",
    "    for string in map(''.join, itertools.product('ATGC', repeat=k)):\n",
    "        sequences.append(string)\n",
    "    sequences_alphabetical = sorted(sequences, reverse=False)\n",
    "    dictionary = {}\n",
    "    for k_mer in sequences:\n",
    "        dictionary[k_mer] = 0\n",
    "    for number in range(0, (len(text)-k)):\n",
    "        pattern = text[number:(number + k)]\n",
    "        dictionary[pattern] += 1\n",
    "    return dictionary        "
   ]
  },
  {
   "cell_type": "code",
   "execution_count": 14,
   "id": "e87b8b67-dc96-41d7-9c39-b52049cacd2a",
   "metadata": {},
   "outputs": [],
   "source": [
    "#computingFrequencies('AACAAGCATAAACATTAAAGAG', 3)"
   ]
  },
  {
   "cell_type": "code",
   "execution_count": 15,
   "id": "da0f6081-ae47-4cd9-9d10-42a0d3cc2566",
   "metadata": {},
   "outputs": [],
   "source": [
    "def fasterFrequentWords(text, k):\n",
    "    frequentPatterns = []\n",
    "    frequencyArray = computingFrequencies(text, k)\n",
    "    maxCount = max(frequencyArray.values())\n",
    "    for key in frequencyArray:\n",
    "        if frequencyArray[key] == maxCount:\n",
    "            frequentPatterns.append(key)\n",
    "    return frequentPatterns"
   ]
  },
  {
   "cell_type": "code",
   "execution_count": 16,
   "id": "89ad7271-d585-4fe5-a3e5-d7baf9071ec1",
   "metadata": {},
   "outputs": [
    {
     "data": {
      "text/plain": [
       "['AAA', 'AAG', 'AAC', 'ACA', 'TAA', 'CAT']"
      ]
     },
     "execution_count": 16,
     "metadata": {},
     "output_type": "execute_result"
    }
   ],
   "source": [
    "fasterFrequentWords('AACAAGCATAAACATTAAAGAG', 3)"
   ]
  },
  {
   "cell_type": "code",
   "execution_count": 17,
   "id": "2d644e30-665b-4534-aadc-036536a322d0",
   "metadata": {},
   "outputs": [],
   "source": [
    "def symbolToNumber(symbol):\n",
    "    symbols = ['A', 'C', 'G', 'T']\n",
    "    return symbols.index(symbol)"
   ]
  },
  {
   "cell_type": "code",
   "execution_count": 18,
   "id": "20926f3c-95a0-4099-9510-2382cc11e5cd",
   "metadata": {},
   "outputs": [],
   "source": [
    "def patternToNumber(pattern):\n",
    "    if len(pattern) == 0:\n",
    "        return 0\n",
    "    else:\n",
    "        return 4*patternToNumber(pattern[:-1]) + symbolToNumber(pattern[len(pattern) - 1])\n",
    "    "
   ]
  },
  {
   "cell_type": "code",
   "execution_count": 19,
   "id": "5a6d0e75-f999-4820-9d65-a81800639c33",
   "metadata": {},
   "outputs": [
    {
     "data": {
      "text/plain": [
       "1864950783"
      ]
     },
     "execution_count": 19,
     "metadata": {},
     "output_type": "execute_result"
    }
   ],
   "source": [
    "patternToNumber('ACGTTAGGATGATTTTT')"
   ]
  },
  {
   "cell_type": "code",
   "execution_count": 20,
   "id": "aad4de79-be60-42af-9cff-8eeb2c61d434",
   "metadata": {},
   "outputs": [],
   "source": [
    "def numberToSymbol(number):\n",
    "    symbols = ['A', 'C', 'G', 'T']\n",
    "    return symbols[number]"
   ]
  },
  {
   "cell_type": "code",
   "execution_count": 21,
   "id": "b0364a0b-024f-44b3-9928-2b30079c1524",
   "metadata": {},
   "outputs": [],
   "source": [
    "import math"
   ]
  },
  {
   "cell_type": "code",
   "execution_count": 22,
   "id": "df2a6550-07d0-49df-8176-f4b04d1401c7",
   "metadata": {},
   "outputs": [],
   "source": [
    "def number_to_pattern_pseudo(number, lenght):\n",
    "    if lenght == 1:\n",
    "        return numberToSymbol(number)\n",
    "    prefix_number = math.floor(number/4)\n",
    "    remainder = number % 4\n",
    "    symbol = numberToSymbol(remainder)\n",
    "    prefix_pattern = number_to_pattern_pseudo(prefix_number, (lenght - 1))\n",
    "    return (prefix_pattern + symbol)"
   ]
  },
  {
   "cell_type": "code",
   "execution_count": 23,
   "id": "8ca23b97-29c8-4094-990f-493eafd950ff",
   "metadata": {},
   "outputs": [
    {
     "data": {
      "text/plain": [
       "'GCGGTAA'"
      ]
     },
     "execution_count": 23,
     "metadata": {},
     "output_type": "execute_result"
    }
   ],
   "source": [
    "number_to_pattern_pseudo(9904, 7)"
   ]
  },
  {
   "cell_type": "code",
   "execution_count": 24,
   "id": "d4e2dd39-4db6-4128-8154-7f1c9f4e9a98",
   "metadata": {},
   "outputs": [],
   "source": [
    "def findingFrequentWordsBySorting(text, k):\n",
    "    frequentPatterns = []\n",
    "    index_list = []\n",
    "    for number in range(0, len(text) - (k-1)):\n",
    "        pattern = text[number:(number+k)]\n",
    "        index = patternToNumber(pattern)\n",
    "        index_list.append(index)\n",
    "    index_list.sort()\n",
    "    index_counts_dict = {}\n",
    "    for value in index_list:\n",
    "        if value in index_counts_dict:\n",
    "            index_counts_dict[value] += 1 \n",
    "        else:\n",
    "            index_counts_dict[value] = 1\n",
    "    maxCount = max(index_counts_dict.values())\n",
    "    max_index_list = []\n",
    "    for key in index_counts_dict:\n",
    "        if index_counts_dict[key] == maxCount:\n",
    "            max_index_list.append(key)\n",
    "    k_mer_list = []\n",
    "    for item in max_index_list:\n",
    "        frequentPatterns.append(number_to_pattern_pseudo(item, k))\n",
    "    return frequentPatterns\n",
    "            \n",
    "        "
   ]
  },
  {
   "cell_type": "code",
   "execution_count": 25,
   "id": "48a7a515-7ac1-4699-b729-24f95583c9ab",
   "metadata": {},
   "outputs": [
    {
     "data": {
      "text/plain": [
       "['GGG', 'TTT']"
      ]
     },
     "execution_count": 25,
     "metadata": {},
     "output_type": "execute_result"
    }
   ],
   "source": [
    "findingFrequentWordsBySorting('ACGTTAGGGGGATGATTTTT', 3)"
   ]
  },
  {
   "cell_type": "code",
   "execution_count": 26,
   "id": "cb453bbb-128c-4d64-8789-1c40d2f9b76f",
   "metadata": {},
   "outputs": [],
   "source": [
    "def clumpFinding(genome, k, t, L):\n",
    "    all_index_list = []\n",
    "    clumps = []\n",
    "    for number in range(0, len(genome) - (L-1)):\n",
    "        text = genome[number:(number+L)]\n",
    "        frequencyArray = computingFrequencies(text, k)\n",
    "        for key in frequencyArray:\n",
    "            if frequencyArray[key] >= t:\n",
    "                clumps.append(key)\n",
    "    frequentPatterns = list(dict.fromkeys(clumps))\n",
    "    return frequentPatterns\n",
    "    "
   ]
  },
  {
   "cell_type": "code",
   "execution_count": 27,
   "id": "f9995185-7271-4ac0-8cd9-61ea0752c893",
   "metadata": {},
   "outputs": [
    {
     "data": {
      "text/plain": [
       "['ATCA',\n",
       " 'TCAA',\n",
       " 'CACA',\n",
       " 'TCTC',\n",
       " 'ATGA',\n",
       " 'CTTG',\n",
       " 'TGTT',\n",
       " 'TTGT',\n",
       " 'GTTT',\n",
       " 'TTTT',\n",
       " 'GACT',\n",
       " 'CGAT',\n",
       " 'GATC',\n",
       " 'TCTT']"
      ]
     },
     "execution_count": 27,
     "metadata": {},
     "output_type": "execute_result"
    }
   ],
   "source": [
    "clumpFinding(text_example_caps, 4, 3, 50)"
   ]
  },
  {
   "cell_type": "code",
   "execution_count": 28,
   "id": "dc9d4939-42d0-43b0-8a77-0c81c62c0214",
   "metadata": {},
   "outputs": [],
   "source": [
    "def frequencyArrayNumeral(text, k):\n",
    "    sequences = []\n",
    "    for string in map(''.join, itertools.product('ATGC', repeat=k)):\n",
    "        sequences.append(string)\n",
    "    sequences_alphabetical = sorted(sequences, reverse=False)\n",
    "    dictionary = {}\n",
    "    for number in range(0, (4**k)):\n",
    "        dictionary[number] = 0\n",
    "    for number in range(0, (len(text)-k)):\n",
    "        pattern = text[number:(number + k)]\n",
    "        dictionary[patternToNumber(pattern)] += 1\n",
    "    return dictionary     "
   ]
  },
  {
   "cell_type": "code",
   "execution_count": 29,
   "id": "d80dd06f-fddb-46c1-b098-f1f0bb7d375c",
   "metadata": {},
   "outputs": [],
   "source": [
    "#frequencyArrayNumeral('AACAAGCATAAACATTAAAGAG', 3)"
   ]
  },
  {
   "cell_type": "code",
   "execution_count": 30,
   "id": "c7e257bd-f174-4f51-90b4-54f6ee2e9090",
   "metadata": {
    "tags": []
   },
   "outputs": [],
   "source": [
    "def betterClumpFinding(genome, k, t, L):\n",
    "    frequent_patterns = []\n",
    "    clumps = {}\n",
    "    for number in range(0, 4**k):\n",
    "        clumps[number] = 0\n",
    "    text = genome[0:L]\n",
    "    frequencyArray = frequencyArrayNumeral(text, k)\n",
    "    for number in range(0, (4**k)):\n",
    "        if frequencyArray[number] >= t:\n",
    "            clumps[number] += 1\n",
    "    for number in range(1, (len(genome)-L)):\n",
    "        first_pattern = genome[(number-1): (number-1)+k]\n",
    "        index = patternToNumber(first_pattern)\n",
    "        frequencyArray[index] = frequencyArray[index] - 1\n",
    "        last_pattern = genome[(number + L - k): (number + L)]\n",
    "        index = patternToNumber(last_pattern)\n",
    "        frequencyArray[index] = frequencyArray[index] + 1\n",
    "        if frequencyArray[index] >= t:\n",
    "            clumps[index] = 1\n",
    "    for number in range(0, 4**k):\n",
    "        if clumps[number] == 1:\n",
    "            pattern = number_to_pattern_pseudo(number, k)\n",
    "            frequent_patterns.append(pattern)\n",
    "    return frequent_patterns"
   ]
  },
  {
   "cell_type": "code",
   "execution_count": 31,
   "id": "0f209833-121a-4d08-96a2-5fe6128f8111",
   "metadata": {},
   "outputs": [
    {
     "data": {
      "text/plain": [
       "['ATCAA', 'TTGTT']"
      ]
     },
     "execution_count": 31,
     "metadata": {},
     "output_type": "execute_result"
    }
   ],
   "source": [
    "betterClumpFinding(text_example_caps, 5, 3, 50)"
   ]
  },
  {
   "cell_type": "code",
   "execution_count": 32,
   "id": "559f6a79-db5c-4ca9-a1b6-61bb7fe44886",
   "metadata": {},
   "outputs": [],
   "source": [
    "def neighnours(pattern, d):\n",
    "    neighbours = []\n",
    "    options = ['A', 'C', 'G', 'T']\n",
    "    pattern_list = []\n",
    "    for characer in pattern:\n",
    "        pattern_list.append(characer)\n",
    "    pattern_tuple = tuple(pattern_list)\n",
    "    for number in range(len(pattern)):\n",
    "        pattern_list = list(pattern_tuple)\n",
    "        pattern_list[number] = 'A'\n",
    "        neighbours.append(''.join(pattern_list))\n",
    "        pattern_list[number] = 'C'\n",
    "        neighbours.append(''.join(pattern_list))\n",
    "        pattern_list[number] = 'G'\n",
    "        neighbours.append(''.join(pattern_list))\n",
    "        pattern_list[number] = 'T'\n",
    "        neighbours.append(''.join(pattern_list))\n",
    "    neighbours = list(dict.fromkeys(neighbours))\n",
    "    return neighbours\n",
    "        \n",
    "    "
   ]
  },
  {
   "cell_type": "code",
   "execution_count": 33,
   "id": "b40c9fba-194d-4a42-aa9f-0c73d33cd3c0",
   "metadata": {},
   "outputs": [
    {
     "data": {
      "text/plain": [
       "['AGG', 'CGG', 'GGG', 'TGG', 'GAG', 'GCG', 'GTG', 'GGA', 'GGC', 'GGT']"
      ]
     },
     "execution_count": 33,
     "metadata": {},
     "output_type": "execute_result"
    }
   ],
   "source": [
    "neighnours('GGG', 1)"
   ]
  },
  {
   "cell_type": "code",
   "execution_count": 34,
   "id": "bf7f1d82-3075-4f60-b038-59e4b43b6319",
   "metadata": {},
   "outputs": [],
   "source": [
    "def frequentWordsWithMismatches(text, k, d):\n",
    "    frequentPatterns = []\n",
    "    frequencyArray = {}\n",
    "    close = {}\n",
    "    for number in range(0, (4**k)):\n",
    "        frequencyArray[number] = 0\n",
    "        close[number] = 0\n",
    "    for number in range(0, (len(text)-k)):\n",
    "        pattern = text[number:(number + k)]\n",
    "        neighbouhood = neighnours(pattern, d)\n",
    "        for neighbour in neighbouhood:\n",
    "            index = patternToNumber(neighbour)\n",
    "            close[index] = 1\n",
    "    for number in range(0, (4**k)):\n",
    "        if close[number] == 1:\n",
    "            pattern = number_to_pattern_pseudo(number, k)\n",
    "            frequencyArray[number] = approximatePatternCount(text, pattern, d)\n",
    "    maxCount = max(frequencyArray.values())\n",
    "    for number in range(0, (4**k)):\n",
    "        if frequencyArray[number] == maxCount:\n",
    "            pattern = number_to_pattern_pseudo(number, k)\n",
    "            frequentPatterns.append(pattern)\n",
    "    return frequentPatterns"
   ]
  },
  {
   "cell_type": "code",
   "execution_count": 35,
   "id": "ab248e01-575e-477b-a691-1a39073d3bbe",
   "metadata": {},
   "outputs": [
    {
     "data": {
      "text/plain": [
       "['TGAT']"
      ]
     },
     "execution_count": 35,
     "metadata": {},
     "output_type": "execute_result"
    }
   ],
   "source": [
    "frequentWordsWithMismatches(text_example_caps, 4, 1)"
   ]
  },
  {
   "cell_type": "code",
   "execution_count": 36,
   "id": "67db7778-45c9-46d3-bdf9-bfd902db0465",
   "metadata": {},
   "outputs": [],
   "source": [
    "def immediateNeighbours(pattern):\n",
    "    neighbourhood = [pattern]\n",
    "    nucleotides = ['A', 'C', 'G', 'T']\n",
    "    for number in range(len(pattern)):\n",
    "        symbol = pattern[number]\n",
    "        for nucleotide in nucleotides:\n",
    "            if nucleotide != symbol:\n",
    "                neighbour = pattern[:number] + nucleotide + pattern[(number+1):]\n",
    "                neighbourhood.append(neighbour)\n",
    "    return neighbourhood\n",
    "                        "
   ]
  },
  {
   "cell_type": "code",
   "execution_count": 37,
   "id": "14b1193b-baf4-4632-bbbd-e4033b7975d1",
   "metadata": {},
   "outputs": [
    {
     "data": {
      "text/plain": [
       "['AAAAA',\n",
       " 'CAAAA',\n",
       " 'GAAAA',\n",
       " 'TAAAA',\n",
       " 'ACAAA',\n",
       " 'AGAAA',\n",
       " 'ATAAA',\n",
       " 'AACAA',\n",
       " 'AAGAA',\n",
       " 'AATAA',\n",
       " 'AAACA',\n",
       " 'AAAGA',\n",
       " 'AAATA',\n",
       " 'AAAAC',\n",
       " 'AAAAG',\n",
       " 'AAAAT']"
      ]
     },
     "execution_count": 37,
     "metadata": {},
     "output_type": "execute_result"
    }
   ],
   "source": [
    "immediateNeighbours('AAAAA')"
   ]
  },
  {
   "cell_type": "code",
   "execution_count": 38,
   "id": "2e2fcdaa-c497-480d-b6ac-17b44a45ba7a",
   "metadata": {},
   "outputs": [],
   "source": [
    "def suffix(text):\n",
    "    return text[1:]\n",
    "def firstSymbol(text):\n",
    "    return text[0]"
   ]
  },
  {
   "cell_type": "code",
   "execution_count": 39,
   "id": "73f2b169-adbd-4117-86c6-2888de8bf980",
   "metadata": {},
   "outputs": [],
   "source": [
    "def neigbors(pattern, d):\n",
    "    nucleotides = ['A', 'C', 'G', 'T']\n",
    "    if d == 0:\n",
    "        return [pattern]\n",
    "    if len(pattern) == 1:\n",
    "        return ['A', 'C', 'G', 'T']\n",
    "    neighbourhood = []\n",
    "    suffixNeigbors = neigbors(suffix(pattern), d)\n",
    "    for element in suffixNeigbors:\n",
    "        if hammingDistance(suffix(pattern), element) < d:\n",
    "            for nucleotide in nucleotides:\n",
    "                neighbourhood.append(f'{nucleotide}{element}')\n",
    "        else:\n",
    "            neighbourhood.append(f'{pattern[0]}{element}')\n",
    "    return neighbourhood"
   ]
  },
  {
   "cell_type": "code",
   "execution_count": 40,
   "id": "363b5d16-2218-4282-9902-13cf2a8ea691",
   "metadata": {},
   "outputs": [
    {
     "data": {
      "text/plain": [
       "['ACA', 'ACC', 'AAG', 'ACG', 'CCG', 'GCG', 'TCG', 'AGG', 'ATG', 'ACT']"
      ]
     },
     "execution_count": 40,
     "metadata": {},
     "output_type": "execute_result"
    }
   ],
   "source": [
    "neigbors('ACG', 1)"
   ]
  },
  {
   "cell_type": "code",
   "execution_count": 41,
   "id": "a8344e42-210f-43af-8b94-a1142a8db7d6",
   "metadata": {},
   "outputs": [],
   "source": [
    "import array"
   ]
  },
  {
   "cell_type": "code",
   "execution_count": 42,
   "id": "b68f5ecb-12ad-474c-94d7-78bd228e09e7",
   "metadata": {},
   "outputs": [],
   "source": [
    "def findingFrequentWordsWithMismatchesBySorting(text, k, d):\n",
    "    frequentPatterns = []\n",
    "    neighborhoods = []\n",
    "    for number in range(0, len(text)-k):\n",
    "        neighborhoods.append(neigbors((text[number:number+k]),d))\n",
    "    neighborhoodArray = array.array('i',[])\n",
    "    flat_neighborhoods = []\n",
    "    for sublist in neighborhoods:\n",
    "        for item in sublist:\n",
    "            flat_neighborhoods.append(item)\n",
    "    flat_neighborhoods_sorted = sorted(flat_neighborhoods)\n",
    "    neighborhood_array = {}\n",
    "    for element in flat_neighborhoods_sorted:\n",
    "        if element in neighborhood_array.keys():\n",
    "            neighborhood_array[element] += 1\n",
    "        else:\n",
    "            neighborhood_array[element] = 1\n",
    "    maxCount = max(neighborhood_array.values())\n",
    "    for key in neighborhood_array:\n",
    "        if neighborhood_array[key] == maxCount:\n",
    "            frequentPatterns.append(key)\n",
    "    return frequentPatterns"
   ]
  },
  {
   "cell_type": "code",
   "execution_count": 43,
   "id": "5506e689-2afd-4448-8f83-34bf241b308f",
   "metadata": {},
   "outputs": [
    {
     "data": {
      "text/plain": [
       "['GATGAT']"
      ]
     },
     "execution_count": 43,
     "metadata": {},
     "output_type": "execute_result"
    }
   ],
   "source": [
    "findingFrequentWordsWithMismatchesBySorting(text_example_caps, 6, 1)"
   ]
  },
  {
   "cell_type": "code",
   "execution_count": 44,
   "id": "447eadae-b325-4416-80ce-3d4e6dbcf8df",
   "metadata": {},
   "outputs": [],
   "source": [
    "def probability_of_a_random_string(n, alphabet):\n",
    "    all_probabilities = 1\n",
    "    for number in range(n):\n",
    "        all_probabilities = all_probabilities*len(alphabet)\n",
    "    return f'1/{all_probabilities}'"
   ]
  },
  {
   "cell_type": "code",
   "execution_count": 45,
   "id": "62ffd28d-2faa-4693-ae5b-3eed8dcb3dd9",
   "metadata": {},
   "outputs": [],
   "source": [
    "def probability(length,alphabet,pattern,t):\n",
    "    all_strings = []\n",
    "    count = 0\n",
    "    for string in map(''.join, itertools.product(alphabet, repeat=length)):\n",
    "        all_strings.append(string)\n",
    "    for string in all_strings:\n",
    "        number_of_occurances = 0\n",
    "        for number in range(0,length):\n",
    "            if string[number:(number+len(pattern))] == pattern:\n",
    "                number_of_occurances += 1\n",
    "        if number_of_occurances >= t:\n",
    "            count += 1\n",
    "    probability = f'{count}/{len(all_strings)}'\n",
    "    return probability\n",
    "        "
   ]
  },
  {
   "cell_type": "code",
   "execution_count": 46,
   "id": "0d82d9f1-771c-43bb-860f-a533972a3ba1",
   "metadata": {},
   "outputs": [
    {
     "data": {
      "text/plain": [
       "'246/2187'"
      ]
     },
     "execution_count": 46,
     "metadata": {},
     "output_type": "execute_result"
    }
   ],
   "source": [
    "probability(7,\"012\",\"01\",2)"
   ]
  },
  {
   "cell_type": "code",
   "execution_count": 47,
   "id": "af89c2fe-a9fd-4354-97e0-16aa4010a4f5",
   "metadata": {},
   "outputs": [
    {
     "name": "stdout",
     "output_type": "stream",
     "text": [
      "Requirement already satisfied: scipy in /home/vaskaxxx/miniconda3/lib/python3.8/site-packages (1.10.1)\n",
      "Requirement already satisfied: numpy<1.27.0,>=1.19.5 in /home/vaskaxxx/miniconda3/lib/python3.8/site-packages (from scipy) (1.24.2)\n",
      "Note: you may need to restart the kernel to use updated packages.\n"
     ]
    }
   ],
   "source": [
    "pip install scipy"
   ]
  },
  {
   "cell_type": "code",
   "execution_count": 48,
   "id": "e1b6f815-bd36-4d1f-9ea7-2b1d99cecd74",
   "metadata": {},
   "outputs": [],
   "source": [
    "import scipy"
   ]
  },
  {
   "cell_type": "code",
   "execution_count": 49,
   "id": "e99dd994-0605-4c4b-9cf6-06808afd8cf8",
   "metadata": {},
   "outputs": [
    {
     "name": "stdout",
     "output_type": "stream",
     "text": [
      "10.0\n"
     ]
    }
   ],
   "source": [
    "print(scipy.special.binom(5,2))"
   ]
  },
  {
   "cell_type": "code",
   "execution_count": 50,
   "id": "9ee61aaa-a129-40f1-9be3-ca527cbbf6a8",
   "metadata": {},
   "outputs": [],
   "source": [
    "def probability_formula(N,A,pattern,t):\n",
    "    ''' A - String length, A - Alphabet letters, t - times appearing '''\n",
    "    # k == len(pattern)\n",
    "    k = len(pattern)\n",
    "    top = scipy.special.binom((N-t*(k-1)),t)\n",
    "    bottom = A**(t*k)\n",
    "    approx_prob = top/bottom\n",
    "    return approx_prob"
   ]
  },
  {
   "cell_type": "code",
   "execution_count": 51,
   "id": "6c81de3c-0262-4132-b18b-c4cbf3c2bb07",
   "metadata": {},
   "outputs": [
    {
     "data": {
      "text/plain": [
       "7.599592208862305e-07"
      ]
     },
     "execution_count": 51,
     "metadata": {},
     "output_type": "execute_result"
    }
   ],
   "source": [
    "probability_formula(30,4,'AAAAA',3)"
   ]
  },
  {
   "cell_type": "code",
   "execution_count": 52,
   "id": "05dfe25a-3ffe-4d05-a100-f89025ae6789",
   "metadata": {},
   "outputs": [],
   "source": [
    "def random_occurances(k_mer_len, number_of_strings, string_lenght):\n",
    "    in_one_string = (string_lenght - k_mer_len + 1)*(0.25**k_mer_len)\n",
    "    exp_total = number_of_strings * in_one_string\n",
    "    return exp_total"
   ]
  },
  {
   "cell_type": "code",
   "execution_count": 53,
   "id": "c03db88d-f006-4f78-8c3b-aa25cfe07b59",
   "metadata": {},
   "outputs": [
    {
     "data": {
      "text/plain": [
       "1.89208984375"
      ]
     },
     "execution_count": 53,
     "metadata": {},
     "output_type": "execute_result"
    }
   ],
   "source": [
    "random_occurances(9, 500, 1000)"
   ]
  },
  {
   "cell_type": "code",
   "execution_count": 54,
   "id": "4afeb796-b692-4bda-b309-dd4f47d918dd",
   "metadata": {},
   "outputs": [],
   "source": [
    "import linecache"
   ]
  },
  {
   "cell_type": "code",
   "execution_count": 55,
   "id": "fe502bbe-834d-4cd2-adbe-dde3e75c3bc9",
   "metadata": {},
   "outputs": [],
   "source": [
    "def flatten(l):\n",
    "    return [item for sublist in l for item in sublist]"
   ]
  },
  {
   "cell_type": "code",
   "execution_count": 56,
   "id": "2da6a29c-73c0-45c1-99bf-8577ed18fbb0",
   "metadata": {},
   "outputs": [],
   "source": [
    "def remove_dub(l):\n",
    "    return_list = list(dict.fromkeys(l))\n",
    "    return return_list"
   ]
  },
  {
   "cell_type": "code",
   "execution_count": 57,
   "id": "acc96bf0-96e7-4230-8dae-b6154130ed71",
   "metadata": {},
   "outputs": [],
   "source": [
    "def motifEnumeration(dna, k, d):\n",
    "    patterns = []\n",
    "    all_strings = []\n",
    "    dna_number = len(dna)\n",
    "    for string in map(''.join, itertools.product('ACGT', repeat=k)):\n",
    "        all_strings.append(string)\n",
    "    for pattern in all_strings:\n",
    "        all_patterns = neigbors(pattern, d)\n",
    "        count = 0\n",
    "        for one_dna in dna:\n",
    "            if any(patt in one_dna for patt in all_patterns):\n",
    "                count += 1\n",
    "        if count == dna_number:\n",
    "            patterns.append(pattern)\n",
    "    return patterns\n",
    "        "
   ]
  },
  {
   "cell_type": "code",
   "execution_count": 58,
   "id": "96e0cef0-bc3e-492e-a3fa-49b342a76a4a",
   "metadata": {},
   "outputs": [
    {
     "data": {
      "text/plain": [
       "['ATA', 'ATT', 'GTT', 'TTT']"
      ]
     },
     "execution_count": 58,
     "metadata": {},
     "output_type": "execute_result"
    }
   ],
   "source": [
    "motifEnumeration(['ATTTGGC','TGCCTTA', 'CGGTATC', 'GAAAATT'], 3, 1)"
   ]
  },
  {
   "cell_type": "code",
   "execution_count": 59,
   "id": "06584586-a2ee-4bb4-9fbc-e949bbf3710a",
   "metadata": {},
   "outputs": [
    {
     "name": "stdout",
     "output_type": "stream",
     "text": [
      "['GGCGTTCAGGCA', 'AAGAATCAGTCA', 'CAAGGAGTTCGC', 'CACGTCAATCAC', 'CAATAATATTCG']\n",
      "['3', '5']\n"
     ]
    }
   ],
   "source": [
    "with open('rosalind_ba2a.txt', 'r') as f:\n",
    "    full_list = [line.strip() for line in f]\n",
    "    line_0 = full_list[0].split(\" \")\n",
    "    full_list.pop(0)\n",
    "    print(full_list)\n",
    "    print(line_0)\n",
    "    "
   ]
  },
  {
   "cell_type": "code",
   "execution_count": 60,
   "id": "49fe0371-cf49-43bd-8c02-0316b79fe42e",
   "metadata": {},
   "outputs": [],
   "source": [
    "def findMinimalHammingKmer(kmer, dna_string):\n",
    "    kmer_len = len(kmer)\n",
    "    min_hamming_distance = len(kmer)\n",
    "    min_hamming_kmer = None\n",
    "    for number in range(len(dna_string) - kmer_len +1):\n",
    "        current_kmer = dna_string[number:number+kmer_len]\n",
    "        current_hamming_distance = hammingDistance(kmer, current_kmer)\n",
    "        if current_hamming_distance < min_hamming_distance:\n",
    "            min_hamming_kmer = current_kmer\n",
    "    return min_hamming_kmer"
   ]
  },
  {
   "cell_type": "code",
   "execution_count": 61,
   "id": "468665df-d80c-4d20-ae25-d3409581bd34",
   "metadata": {},
   "outputs": [],
   "source": [
    "def findMinimalHammingKmerDistance(kmer, dna_string):\n",
    "    kmer_len = len(kmer)\n",
    "    min_hamming_distance = len(kmer)\n",
    "    min_hamming_kmer = None\n",
    "    for number in range(len(dna_string) - kmer_len +1):\n",
    "        current_kmer = dna_string[number:number+kmer_len]\n",
    "        current_hamming_distance = hammingDistance(kmer, current_kmer)\n",
    "        if current_hamming_distance < min_hamming_distance:\n",
    "            min_hamming_distance = current_hamming_distance\n",
    "            min_hamming_kmer = current_kmer\n",
    "    return min_hamming_distance"
   ]
  },
  {
   "cell_type": "code",
   "execution_count": 62,
   "id": "8563a23c-afed-474b-b8bd-0e6e98bc32e1",
   "metadata": {},
   "outputs": [],
   "source": [
    "def patternScore(pattern, dna_list):\n",
    "    score_list = []\n",
    "    for dna_fragment in dna_list:\n",
    "        line_score = findMinimalHammingKmerDistance(pattern, dna_fragment)\n",
    "        score_list.append(line_score)\n",
    "    return sum(score_list)"
   ]
  },
  {
   "cell_type": "code",
   "execution_count": 63,
   "id": "94cedd90-0015-4d47-bff1-87123a588ca9",
   "metadata": {},
   "outputs": [],
   "source": [
    "dna_dataset = ['AAATTGACGCAT','GACGACCACGTT','CGTCAGCGCCTG','GCTGAGCACCGG','AGTACGGGACAG']"
   ]
  },
  {
   "cell_type": "code",
   "execution_count": 64,
   "id": "3ed6364c-e98d-4cc8-be3f-543255f7722a",
   "metadata": {},
   "outputs": [],
   "source": [
    "def medianString(dna_dataset, k):\n",
    "    distance = float('inf')\n",
    "    sequences = []\n",
    "    best_k_mer = ''\n",
    "    min_score = k*len(dna_dataset[0])\n",
    "    for string in map(''.join, itertools.product('ATGC', repeat=k)):\n",
    "        sequences.append(string)\n",
    "    for sequence in sequences:\n",
    "        sequence_score = patternScore(sequence, dna_dataset)\n",
    "        if sequence_score < min_score:\n",
    "            min_score = sequence_score\n",
    "            best_k_mer = sequence\n",
    "    return best_k_mer"
   ]
  },
  {
   "cell_type": "code",
   "execution_count": 65,
   "id": "3e474246-8794-4a9d-865f-547eba851c3d",
   "metadata": {},
   "outputs": [
    {
     "data": {
      "text/plain": [
       "'ACG'"
      ]
     },
     "execution_count": 65,
     "metadata": {},
     "output_type": "execute_result"
    }
   ],
   "source": [
    "medianString(dna_dataset, 3)"
   ]
  },
  {
   "cell_type": "code",
   "execution_count": 66,
   "id": "3a65a253-2631-4e53-88b9-3ac89dc22b4a",
   "metadata": {},
   "outputs": [
    {
     "name": "stdout",
     "output_type": "stream",
     "text": [
      "3 5\n",
      "GGCGTTCAGGCA\n",
      "['AAGAATCAGTCA', 'CAAGGAGTTCGC', 'CACGTCAATCAC', 'CAATAATATTCG']\n"
     ]
    }
   ],
   "source": [
    "with open('rosalind_ba2a.txt', 'r') as f:\n",
    "    full_list = [line.strip() for line in f]\n",
    "    dna_string = full_list[0]\n",
    "    k_value = full_list[1]\n",
    "    matrix = []\n",
    "    for number in range(2,len(full_list)):\n",
    "        matrix.append(full_list[number])\n",
    "    print(dna_string)\n",
    "    print(k_value)\n",
    "    print(matrix)"
   ]
  },
  {
   "cell_type": "code",
   "execution_count": 67,
   "id": "6cce01c4-40c2-4b5a-a4bc-4776c27f600e",
   "metadata": {},
   "outputs": [],
   "source": [
    "def mostProbableKmer(dna_string, k_value, matrix):\n",
    "    most_probable_kmer = ''\n",
    "    probability_level = 0\n",
    "    adenine = matrix[0].split()\n",
    "    citozine = matrix[1].split()\n",
    "    guanine = matrix[2].split()\n",
    "    timine = matrix[3].split()\n",
    "    for number in range(len(dna_string) - int(k_value) +1):\n",
    "        current_kmer = dna_string[number:number+int(k_value)]\n",
    "        k_mer_probability = 0\n",
    "        for symbol_number in range(int(k_value)):\n",
    "            if current_kmer[symbol_number] == 'A':\n",
    "                k_mer_probability += float(adenine[symbol_number])\n",
    "            elif current_kmer[symbol_number] == 'C':\n",
    "                k_mer_probability += float(citozine[symbol_number])\n",
    "            elif current_kmer[symbol_number] == 'G':\n",
    "                k_mer_probability += float(guanine[symbol_number])\n",
    "            elif current_kmer[symbol_number] == 'T':\n",
    "                k_mer_probability += float(timine[symbol_number])\n",
    "        if k_mer_probability > probability_level:\n",
    "            most_probable_kmer = current_kmer\n",
    "            probability_level = k_mer_probability\n",
    "    return most_probable_kmer"
   ]
  },
  {
   "cell_type": "code",
   "execution_count": 68,
   "id": "c745d945-4483-42cc-b818-8435fef3ea90",
   "metadata": {},
   "outputs": [
    {
     "ename": "ValueError",
     "evalue": "invalid literal for int() with base 10: 'GGCGTTCAGGCA'",
     "output_type": "error",
     "traceback": [
      "\u001b[0;31m---------------------------------------------------------------------------\u001b[0m",
      "\u001b[0;31mValueError\u001b[0m                                Traceback (most recent call last)",
      "Cell \u001b[0;32mIn[68], line 1\u001b[0m\n\u001b[0;32m----> 1\u001b[0m \u001b[38;5;28mprint\u001b[39m(\u001b[43mmostProbableKmer\u001b[49m\u001b[43m(\u001b[49m\u001b[43mdna_string\u001b[49m\u001b[43m,\u001b[49m\u001b[43m \u001b[49m\u001b[43mk_value\u001b[49m\u001b[43m,\u001b[49m\u001b[43m \u001b[49m\u001b[43mmatrix\u001b[49m\u001b[43m)\u001b[49m)\n",
      "Cell \u001b[0;32mIn[67], line 8\u001b[0m, in \u001b[0;36mmostProbableKmer\u001b[0;34m(dna_string, k_value, matrix)\u001b[0m\n\u001b[1;32m      6\u001b[0m guanine \u001b[38;5;241m=\u001b[39m matrix[\u001b[38;5;241m2\u001b[39m]\u001b[38;5;241m.\u001b[39msplit()\n\u001b[1;32m      7\u001b[0m timine \u001b[38;5;241m=\u001b[39m matrix[\u001b[38;5;241m3\u001b[39m]\u001b[38;5;241m.\u001b[39msplit()\n\u001b[0;32m----> 8\u001b[0m \u001b[38;5;28;01mfor\u001b[39;00m number \u001b[38;5;129;01min\u001b[39;00m \u001b[38;5;28mrange\u001b[39m(\u001b[38;5;28mlen\u001b[39m(dna_string) \u001b[38;5;241m-\u001b[39m \u001b[38;5;28;43mint\u001b[39;49m\u001b[43m(\u001b[49m\u001b[43mk_value\u001b[49m\u001b[43m)\u001b[49m \u001b[38;5;241m+\u001b[39m\u001b[38;5;241m1\u001b[39m):\n\u001b[1;32m      9\u001b[0m     current_kmer \u001b[38;5;241m=\u001b[39m dna_string[number:number\u001b[38;5;241m+\u001b[39m\u001b[38;5;28mint\u001b[39m(k_value)]\n\u001b[1;32m     10\u001b[0m     k_mer_probability \u001b[38;5;241m=\u001b[39m \u001b[38;5;241m0\u001b[39m\n",
      "\u001b[0;31mValueError\u001b[0m: invalid literal for int() with base 10: 'GGCGTTCAGGCA'"
     ]
    }
   ],
   "source": [
    "print(mostProbableKmer(dna_string, k_value, matrix))"
   ]
  },
  {
   "cell_type": "code",
   "execution_count": 69,
   "id": "188f480e-1664-4286-85fc-9441cacc4c14",
   "metadata": {},
   "outputs": [
    {
     "ename": "ValueError",
     "evalue": "invalid literal for int() with base 10: 'GGCGTTCAGGCA'",
     "output_type": "error",
     "traceback": [
      "\u001b[0;31m---------------------------------------------------------------------------\u001b[0m",
      "\u001b[0;31mValueError\u001b[0m                                Traceback (most recent call last)",
      "Cell \u001b[0;32mIn[69], line 3\u001b[0m\n\u001b[1;32m      1\u001b[0m \u001b[38;5;28;01mwith\u001b[39;00m \u001b[38;5;28mopen\u001b[39m(\u001b[38;5;124m'\u001b[39m\u001b[38;5;124manswers.txt\u001b[39m\u001b[38;5;124m'\u001b[39m, \u001b[38;5;124m'\u001b[39m\u001b[38;5;124ma\u001b[39m\u001b[38;5;124m'\u001b[39m) \u001b[38;5;28;01mas\u001b[39;00m the_file:\n\u001b[1;32m      2\u001b[0m     the_file\u001b[38;5;241m.\u001b[39mtruncate(\u001b[38;5;241m0\u001b[39m)\n\u001b[0;32m----> 3\u001b[0m     the_file\u001b[38;5;241m.\u001b[39mwrite(\u001b[43mmostProbableKmer\u001b[49m\u001b[43m(\u001b[49m\u001b[43mdna_string\u001b[49m\u001b[43m,\u001b[49m\u001b[43m \u001b[49m\u001b[43mk_value\u001b[49m\u001b[43m,\u001b[49m\u001b[43m \u001b[49m\u001b[43mmatrix\u001b[49m\u001b[43m)\u001b[49m)\n",
      "Cell \u001b[0;32mIn[67], line 8\u001b[0m, in \u001b[0;36mmostProbableKmer\u001b[0;34m(dna_string, k_value, matrix)\u001b[0m\n\u001b[1;32m      6\u001b[0m guanine \u001b[38;5;241m=\u001b[39m matrix[\u001b[38;5;241m2\u001b[39m]\u001b[38;5;241m.\u001b[39msplit()\n\u001b[1;32m      7\u001b[0m timine \u001b[38;5;241m=\u001b[39m matrix[\u001b[38;5;241m3\u001b[39m]\u001b[38;5;241m.\u001b[39msplit()\n\u001b[0;32m----> 8\u001b[0m \u001b[38;5;28;01mfor\u001b[39;00m number \u001b[38;5;129;01min\u001b[39;00m \u001b[38;5;28mrange\u001b[39m(\u001b[38;5;28mlen\u001b[39m(dna_string) \u001b[38;5;241m-\u001b[39m \u001b[38;5;28;43mint\u001b[39;49m\u001b[43m(\u001b[49m\u001b[43mk_value\u001b[49m\u001b[43m)\u001b[49m \u001b[38;5;241m+\u001b[39m\u001b[38;5;241m1\u001b[39m):\n\u001b[1;32m      9\u001b[0m     current_kmer \u001b[38;5;241m=\u001b[39m dna_string[number:number\u001b[38;5;241m+\u001b[39m\u001b[38;5;28mint\u001b[39m(k_value)]\n\u001b[1;32m     10\u001b[0m     k_mer_probability \u001b[38;5;241m=\u001b[39m \u001b[38;5;241m0\u001b[39m\n",
      "\u001b[0;31mValueError\u001b[0m: invalid literal for int() with base 10: 'GGCGTTCAGGCA'"
     ]
    }
   ],
   "source": [
    "with open('answers.txt', 'a') as the_file:\n",
    "    the_file.truncate(0)\n",
    "    the_file.write(mostProbableKmer(dna_string, k_value, matrix))"
   ]
  },
  {
   "cell_type": "code",
   "execution_count": 70,
   "id": "497db103-beef-4a3d-8590-bdb9c5486b44",
   "metadata": {},
   "outputs": [
    {
     "name": "stdout",
     "output_type": "stream",
     "text": [
      "3\n",
      "5\n",
      "['GGCGTTCAGGCA', 'AAGAATCAGTCA', 'CAAGGAGTTCGC', 'CACGTCAATCAC', 'CAATAATATTCG']\n"
     ]
    }
   ],
   "source": [
    "with open('rosalind_ba2a.txt', 'r') as f:\n",
    "    full_list = [line.strip() for line in f]\n",
    "    first_line_split = full_list[0].split()\n",
    "    dna_list = []\n",
    "    for number in range(1,len(full_list)):\n",
    "        dna_list.append(full_list[number])\n",
    "    k_value = int(first_line_split[0])\n",
    "    t_value = int(first_line_split[1])\n",
    "    print(k_value)\n",
    "    print(t_value)\n",
    "    print(dna_list)"
   ]
  },
  {
   "cell_type": "code",
   "execution_count": 71,
   "id": "a9933bae-29cc-403e-abb5-de26a6ccba58",
   "metadata": {},
   "outputs": [],
   "source": [
    "def window(string, k):\n",
    "    for item in range(len(string) - k + 1):\n",
    "        yield string[item:item+k]"
   ]
  },
  {
   "cell_type": "code",
   "execution_count": 72,
   "id": "f47afbe0-459e-4de8-979f-05de3510b7bb",
   "metadata": {},
   "outputs": [],
   "source": [
    "def profileMatrix(motifs):\n",
    "    profile = {}\n",
    "    A, C, G, T = [], [], [], []\n",
    "    for number in range(len(motifs[0])):\n",
    "        countA, countC, countG, countT = 0, 0, 0, 0\n",
    "        for motif in motifs:\n",
    "            if motif[number] == \"A\":\n",
    "                countA += 1\n",
    "            elif motif[number] == \"C\":\n",
    "                countC += 1\n",
    "            elif motif[number] == \"G\":\n",
    "                countG += 1\n",
    "            elif motif[number] == \"T\":\n",
    "                countT += 1\n",
    "        A.append(countA)\n",
    "        C.append(countC)\n",
    "        G.append(countG)\n",
    "        T.append(countT)\n",
    "    profile[\"A\"] = A\n",
    "    profile[\"C\"] = C\n",
    "    profile[\"G\"] = G\n",
    "    profile[\"T\"] = T\n",
    "    return profile"
   ]
  },
  {
   "cell_type": "code",
   "execution_count": 73,
   "id": "73b2ed89-16ee-4238-ae08-19b8c6de120d",
   "metadata": {},
   "outputs": [
    {
     "name": "stdout",
     "output_type": "stream",
     "text": [
      "{'A': [1, 4, 2, 1, 2, 2, 1, 4, 0, 0, 1, 2], 'C': [3, 0, 2, 0, 0, 1, 2, 0, 0, 2, 3, 2], 'G': [1, 1, 1, 3, 1, 0, 1, 0, 2, 1, 1, 1], 'T': [0, 0, 0, 1, 2, 2, 1, 1, 3, 2, 0, 0]}\n"
     ]
    }
   ],
   "source": [
    "print(profileMatrix(['GGCGTTCAGGCA', 'AAGAATCAGTCA', 'CAAGGAGTTCGC', 'CACGTCAATCAC', 'CAATAATATTCG']))"
   ]
  },
  {
   "cell_type": "code",
   "execution_count": 74,
   "id": "cb963e7e-423d-4479-81ef-66aae3b6406b",
   "metadata": {},
   "outputs": [],
   "source": [
    "profile_example = profileMatrix(['GGCGTTCAGGCA', 'AAGAATCAGTCA', 'CAAGGAGTTCGC', 'CACGTCAATCAC', 'CAATAATATTCG'])"
   ]
  },
  {
   "cell_type": "code",
   "execution_count": 162,
   "id": "8066429c-597f-4722-ac2e-296a94c33e8c",
   "metadata": {},
   "outputs": [],
   "source": [
    "def newProfileMatrix(motifs):\n",
    "    profile = {}\n",
    "    A, C, G, T = [], [], [], []\n",
    "    for number in range(len(motifs[0])):\n",
    "        countA, countC, countG, countT = 0, 0, 0, 0\n",
    "        for motif in motifs:\n",
    "            if motif[number] == \"A\":\n",
    "                countA += 1\n",
    "            elif motif[number] == \"C\":\n",
    "                countC += 1\n",
    "            elif motif[number] == \"G\":\n",
    "                countG += 1\n",
    "            elif motif[number] == \"T\":\n",
    "                countT += 1\n",
    "        A.append(countA)\n",
    "        C.append(countC)\n",
    "        G.append(countG)\n",
    "        T.append(countT)\n",
    "    Ap, Cp, Gp, Tp = [], [], [], []\n",
    "    \n",
    "    for item in A:\n",
    "        Ap.append(item/4)\n",
    "    for item in C:\n",
    "        Cp.append(item/4)\n",
    "    for item in G:\n",
    "        Gp.append(item/4)\n",
    "    for item in T:\n",
    "        Tp.append(item/4)\n",
    "        \n",
    "    profile[\"A\"] = Ap\n",
    "    profile[\"C\"] = Cp\n",
    "    profile[\"G\"] = Gp\n",
    "    profile[\"T\"] = Tp\n",
    "    \n",
    "    return profile"
   ]
  },
  {
   "cell_type": "code",
   "execution_count": 163,
   "id": "50d59295-36d2-49f0-beb1-330ec78d4b61",
   "metadata": {},
   "outputs": [
    {
     "name": "stdout",
     "output_type": "stream",
     "text": [
      "{'A': [0.25, 1.0, 0.5, 0.25, 0.5, 0.5, 0.25, 1.0, 0.0, 0.0, 0.25, 0.5], 'C': [0.75, 0.0, 0.5, 0.0, 0.0, 0.25, 0.5, 0.0, 0.0, 0.5, 0.75, 0.5], 'G': [0.25, 0.25, 0.25, 0.75, 0.25, 0.0, 0.25, 0.0, 0.5, 0.25, 0.25, 0.25], 'T': [0.0, 0.0, 0.0, 0.25, 0.5, 0.5, 0.25, 0.25, 0.75, 0.5, 0.0, 0.0]}\n"
     ]
    }
   ],
   "source": [
    "print(newProfileMatrix(['GGCGTTCAGGCA', 'AAGAATCAGTCA', 'CAAGGAGTTCGC', 'CACGTCAATCAC', 'CAATAATATTCG']))"
   ]
  },
  {
   "cell_type": "code",
   "execution_count": 75,
   "id": "3e81e9fa-389f-4887-a1ab-3f813eeaf5e2",
   "metadata": {},
   "outputs": [],
   "source": [
    "def profileMostProbable(text, k, profile):\n",
    "    letter = [[] for key in range(k)]\n",
    "    probable = \"\"\n",
    "    hamdict = {}\n",
    "    index = 1\n",
    "    for number in range(k):\n",
    "        for nucleotide in \"ACGT\":\n",
    "            letter[number].append(profile[nucleotide][number])\n",
    "    for number in range(len(letter)):\n",
    "        max_number = max(letter[number])\n",
    "        probable += str(numberToSymbol(letter[number].index(max_number)))\n",
    "    for k_mer in window(text, k):\n",
    "        for number in range(len(k_mer)):\n",
    "            symbol_number = symbolToNumber(k_mer[number])\n",
    "            index *= float(letter[number][symbol_number])\n",
    "        hamdict[k_mer] = index\n",
    "        index = 1\n",
    "    for pat, ham in hamdict.items():\n",
    "        if ham == max(hamdict.values()):\n",
    "            final = pat\n",
    "            break\n",
    "    return final"
   ]
  },
  {
   "cell_type": "code",
   "execution_count": 76,
   "id": "306d477f-1a16-4ce2-a8ec-889401460b11",
   "metadata": {},
   "outputs": [],
   "source": [
    "some_string = 'CGGCGAAGTTCCTGGTCATTGGAGAACACCCGACTCACCTGGCCAGCAGTAACTTGGCCAGTACGAGCGCAGTGGTTGGATAGGCGGCATCTTAAGGGAAAAGATACACTAGATAGATCTGGTCGGAGCTCCCTAATCACCACTCCCTAGAGTGGCATGCGTCCCCACGGAACCATCAGGCGATTTTCGTGAAATCAAAC'"
   ]
  },
  {
   "cell_type": "code",
   "execution_count": 77,
   "id": "b81c7608-46b7-4013-899b-454bafd1b695",
   "metadata": {},
   "outputs": [
    {
     "name": "stdout",
     "output_type": "stream",
     "text": [
      "CAGTACGAGCGC\n"
     ]
    }
   ],
   "source": [
    "print(profileMostProbable(some_string, 12, profile_example))"
   ]
  },
  {
   "cell_type": "code",
   "execution_count": 78,
   "id": "6226e467-c585-4140-adc1-092fcaed8805",
   "metadata": {},
   "outputs": [],
   "source": [
    "def modifiedMostProbableKmer(dna_string, k_value, matrix):\n",
    "    most_probable_kmer = ''\n",
    "    probability_level = 0\n",
    "    adenine = matrix['A']\n",
    "    citozine = matrix['C']\n",
    "    guanine = matrix['G']\n",
    "    timine = matrix['T']\n",
    "    for number in range(len(dna_string) - int(k_value) +1):\n",
    "        current_kmer = dna_string[number:number+int(k_value)]\n",
    "        k_mer_probability = 0\n",
    "        for symbol_number in range(int(k_value)):\n",
    "            if current_kmer[symbol_number] == 'A':\n",
    "                k_mer_probability += float(adenine[symbol_number])\n",
    "            elif current_kmer[symbol_number] == 'C':\n",
    "                k_mer_probability += float(citozine[symbol_number])\n",
    "            elif current_kmer[symbol_number] == 'G':\n",
    "                k_mer_probability += float(guanine[symbol_number])\n",
    "            elif current_kmer[symbol_number] == 'T':\n",
    "                k_mer_probability += float(timine[symbol_number])\n",
    "        if k_mer_probability > probability_level:\n",
    "            most_probable_kmer = current_kmer\n",
    "            probability_level = k_mer_probability\n",
    "    return most_probable_kmer"
   ]
  },
  {
   "cell_type": "code",
   "execution_count": 79,
   "id": "e246ed2d-06d8-4651-bcbb-04b86c3288ef",
   "metadata": {},
   "outputs": [
    {
     "name": "stdout",
     "output_type": "stream",
     "text": [
      "CAGTACGAGCGC\n"
     ]
    }
   ],
   "source": [
    "print(modifiedMostProbableKmer(some_string, 12, profile_example))"
   ]
  },
  {
   "cell_type": "code",
   "execution_count": 80,
   "id": "818e14e8-814d-4db3-9b59-748e8ac27d23",
   "metadata": {},
   "outputs": [],
   "source": [
    "def findConcensus(motifs):\n",
    "    consensus = \"\"\n",
    "    for i in range(len(motifs[0])):\n",
    "        countA, countC, countG, countT = 0, 0, 0, 0\n",
    "        for motif in motifs:\n",
    "            if motif[i] == \"A\":\n",
    "                countA += 1\n",
    "            elif motif[i] == \"C\":\n",
    "                countC += 1\n",
    "            elif motif[i] == \"G\":\n",
    "                countG += 1\n",
    "            elif motif[i] == \"T\":\n",
    "                countT += 1\n",
    "        if countA >= max(countC, countG, countT):\n",
    "            consensus += \"A\"\n",
    "        elif countC >= max(countA, countG, countT):\n",
    "            consensus += \"C\"\n",
    "        elif countG >= max(countC, countA, countT):\n",
    "            consensus += \"G\"\n",
    "        elif countT >= max(countC, countG, countA):\n",
    "            consensus += \"T\"\n",
    "    return consensus"
   ]
  },
  {
   "cell_type": "code",
   "execution_count": 81,
   "id": "313f327e-20a2-474a-90f9-c359532da7c2",
   "metadata": {},
   "outputs": [],
   "source": [
    "def score(motifs):\n",
    "    consensus = findConcensus(motifs)\n",
    "    score = 0.0000\n",
    "    for motif in motifs:\n",
    "        score += hammingDistance(consensus, motif)\n",
    "    return score"
   ]
  },
  {
   "cell_type": "code",
   "execution_count": 82,
   "id": "9fdfc4b1-5005-4552-9f45-e2a3fc1b4681",
   "metadata": {},
   "outputs": [],
   "source": [
    "def greedyMotifSearch(k_value, t_value, dna_list):\n",
    "    import math\n",
    "    bestMotifs = []\n",
    "    bestScore = math.inf\n",
    "    for string in dna_list:\n",
    "        bestMotifs.append(string[:k_value])\n",
    "    base = dna_list[0]\n",
    "    for k_mer in window(base, k_value):\n",
    "        newMotifs = [k_mer]\n",
    "        print(newMotifs)\n",
    "        for number in range(1, len(dna_list)):\n",
    "            profile = profileMatrix(newMotifs)\n",
    "            probable = modifiedMostProbableKmer(dna_list[number], k_value, profile)\n",
    "            newMotifs.append(probable)\n",
    "        if score(newMotifs) < bestScore:\n",
    "            bestScore = score(newMotifs)\n",
    "            bestMotifs = newMotifs\n",
    "    return newMotifs"
   ]
  },
  {
   "cell_type": "code",
   "execution_count": 137,
   "id": "a904f7ac-50a5-4a61-bb90-4bad49b164b4",
   "metadata": {},
   "outputs": [],
   "source": [
    "def MostProbableKmerGPT(dna_string, k_value, matrix):\n",
    "    most_probable_kmer = ''\n",
    "    probability_level = -1\n",
    "    adenine = matrix['A']\n",
    "    citozine = matrix['C']\n",
    "    guanine = matrix['G']\n",
    "    timine = matrix['T']\n",
    "    for number in range(len(dna_string) - int(k_value) +1):\n",
    "        current_kmer = dna_string[number:number+int(k_value)]\n",
    "        k_mer_probability = 0\n",
    "        for symbol_number in range(int(k_value)):\n",
    "            if current_kmer[symbol_number] == 'A':\n",
    "                k_mer_probability += float(adenine[symbol_number])\n",
    "            elif current_kmer[symbol_number] == 'C':\n",
    "                k_mer_probability += float(citozine[symbol_number])\n",
    "            elif current_kmer[symbol_number] == 'G':\n",
    "                k_mer_probability += float(guanine[symbol_number])\n",
    "            elif current_kmer[symbol_number] == 'T':\n",
    "                k_mer_probability += float(timine[symbol_number])\n",
    "        if k_mer_probability > probability_level:\n",
    "            most_probable_kmer = current_kmer\n",
    "            probability_level = k_mer_probability\n",
    "    return most_probable_kmer"
   ]
  },
  {
   "cell_type": "code",
   "execution_count": 167,
   "id": "3d635916-f405-4de2-af03-8276ad416a33",
   "metadata": {},
   "outputs": [],
   "source": [
    "def greedyMotifsReDo(DNA, k, t):\n",
    "    bestMotifs = []\n",
    "    for string in DNA:\n",
    "        bestMotifs.append(string[:k])\n",
    "    for k_mer in window(DNA[0],k):\n",
    "        motifs= [k_mer]\n",
    "        for item in range(1, t):\n",
    "            profile = newProfileMatrix(motifs)\n",
    "            newMotif = MostProbableKmerGPT(DNA[item], k, profile)\n",
    "            motifs.append(newMotif)\n",
    "        if score(motifs) < score(bestMotifs):\n",
    "            bestMotifs = motifs\n",
    "    return bestMotifs\n",
    "            "
   ]
  },
  {
   "cell_type": "code",
   "execution_count": 168,
   "id": "6a19f74a-9f1e-4acd-93d3-366931150529",
   "metadata": {},
   "outputs": [
    {
     "name": "stdout",
     "output_type": "stream",
     "text": [
      "3\n",
      "5\n",
      "['GGCGTTCAGGCA', 'AAGAATCAGTCA', 'CAAGGAGTTCGC', 'CACGTCAATCAC', 'CAATAATATTCG']\n"
     ]
    }
   ],
   "source": [
    "with open('rosalind_ba2a.txt', 'r') as f:\n",
    "    full_list = [line.strip() for line in f]\n",
    "    first_line_split = full_list[0].split()\n",
    "    dna_list = []\n",
    "    for number in range(1,len(full_list)):\n",
    "        dna_list.append(full_list[number])\n",
    "    k_value = int(first_line_split[0])\n",
    "    t_value = int(first_line_split[1])\n",
    "    print(k_value)\n",
    "    print(t_value)\n",
    "    print(dna_list)"
   ]
  },
  {
   "cell_type": "code",
   "execution_count": 169,
   "id": "de0ece7f-fbad-4ad3-9e66-21aa4e8c4cc9",
   "metadata": {},
   "outputs": [
    {
     "data": {
      "text/plain": [
       "['TTC', 'ATC', 'TTC', 'ATC', 'TTC']"
      ]
     },
     "execution_count": 169,
     "metadata": {},
     "output_type": "execute_result"
    }
   ],
   "source": [
    "greedyMotifsReDo(dna_list, k_value, t_value)"
   ]
  },
  {
   "cell_type": "code",
   "execution_count": 105,
   "id": "f9797686-a488-4e0e-9eec-c64e7e46c783",
   "metadata": {},
   "outputs": [
    {
     "name": "stdout",
     "output_type": "stream",
     "text": [
      "['GGC']\n",
      "['GCG']\n",
      "['CGT']\n",
      "['GTT']\n",
      "['TTC']\n",
      "['TCA']\n",
      "['CAG']\n",
      "['AGG']\n",
      "['GGC']\n",
      "['GCA']\n"
     ]
    },
    {
     "data": {
      "text/plain": [
       "['GCA', 'GAA', 'GGA', 'TCA', 'TAA']"
      ]
     },
     "execution_count": 105,
     "metadata": {},
     "output_type": "execute_result"
    }
   ],
   "source": [
    "greedyMotifSearch(k_value, t_value, dna_list)"
   ]
  },
  {
   "cell_type": "code",
   "execution_count": 172,
   "id": "5dd6adc0-84d5-4d1e-913c-54e823ff66c3",
   "metadata": {},
   "outputs": [],
   "source": [
    "def laplaceProfileMatrix(motifs):\n",
    "    profile = {}\n",
    "    A, C, G, T = [], [], [], []\n",
    "    for number in range(len(motifs[0])):\n",
    "        countA, countC, countG, countT = 0, 0, 0, 0\n",
    "        for motif in motifs:\n",
    "            if motif[number] == \"A\":\n",
    "                countA += 1\n",
    "            elif motif[number] == \"C\":\n",
    "                countC += 1\n",
    "            elif motif[number] == \"G\":\n",
    "                countG += 1\n",
    "            elif motif[number] == \"T\":\n",
    "                countT += 1\n",
    "        A.append(countA)\n",
    "        C.append(countC)\n",
    "        G.append(countG)\n",
    "        T.append(countT)\n",
    "    Ap, Cp, Gp, Tp = [], [], [], []\n",
    "    \n",
    "    for item in A:\n",
    "        Ap.append(item+1/(4+len(motifs)))\n",
    "    for item in C:\n",
    "        Cp.append(item+1/(4+len(motifs)))\n",
    "    for item in G:\n",
    "        Gp.append(item+1/(4+len(motifs)))\n",
    "    for item in T:\n",
    "        Tp.append(item+1/(4+len(motifs)))\n",
    "        \n",
    "    profile[\"A\"] = Ap\n",
    "    profile[\"C\"] = Cp\n",
    "    profile[\"G\"] = Gp\n",
    "    profile[\"T\"] = Tp\n",
    "    \n",
    "    return profile"
   ]
  },
  {
   "cell_type": "code",
   "execution_count": 173,
   "id": "4c2353c3-960d-4cf4-9a45-f3067e19a652",
   "metadata": {},
   "outputs": [
    {
     "name": "stdout",
     "output_type": "stream",
     "text": [
      "{'A': [1.1111111111111112, 4.111111111111111, 2.111111111111111, 1.1111111111111112, 2.111111111111111, 2.111111111111111, 1.1111111111111112, 4.111111111111111, 0.1111111111111111, 0.1111111111111111, 1.1111111111111112, 2.111111111111111], 'C': [3.111111111111111, 0.1111111111111111, 2.111111111111111, 0.1111111111111111, 0.1111111111111111, 1.1111111111111112, 2.111111111111111, 0.1111111111111111, 0.1111111111111111, 2.111111111111111, 3.111111111111111, 2.111111111111111], 'G': [1.1111111111111112, 1.1111111111111112, 1.1111111111111112, 3.111111111111111, 1.1111111111111112, 0.1111111111111111, 1.1111111111111112, 0.1111111111111111, 2.111111111111111, 1.1111111111111112, 1.1111111111111112, 1.1111111111111112], 'T': [0.1111111111111111, 0.1111111111111111, 0.1111111111111111, 1.1111111111111112, 2.111111111111111, 2.111111111111111, 1.1111111111111112, 1.1111111111111112, 3.111111111111111, 2.111111111111111, 0.1111111111111111, 0.1111111111111111]}\n"
     ]
    }
   ],
   "source": [
    "print(laplaceProfileMatrix(['GGCGTTCAGGCA', 'AAGAATCAGTCA', 'CAAGGAGTTCGC', 'CACGTCAATCAC', 'CAATAATATTCG']))"
   ]
  },
  {
   "cell_type": "code",
   "execution_count": 174,
   "id": "5874f96e-fede-4217-8626-fbd0199bc42a",
   "metadata": {},
   "outputs": [],
   "source": [
    "def laplaceGreedyMotifsReDo(DNA, k, t):\n",
    "    bestMotifs = []\n",
    "    for string in DNA:\n",
    "        bestMotifs.append(string[:k])\n",
    "    for k_mer in window(DNA[0],k):\n",
    "        motifs= [k_mer]\n",
    "        for item in range(1, t):\n",
    "            profile = laplaceProfileMatrix(motifs)\n",
    "            newMotif = MostProbableKmerGPT(DNA[item], k, profile)\n",
    "            motifs.append(newMotif)\n",
    "        if score(motifs) < score(bestMotifs):\n",
    "            bestMotifs = motifs\n",
    "    return bestMotifs"
   ]
  },
  {
   "cell_type": "code",
   "execution_count": 175,
   "id": "dfd18be4-799e-4485-9c18-fb7c5c2801ef",
   "metadata": {},
   "outputs": [
    {
     "data": {
      "text/plain": [
       "['TTC', 'ATC', 'TTC', 'ATC', 'TTC']"
      ]
     },
     "execution_count": 175,
     "metadata": {},
     "output_type": "execute_result"
    }
   ],
   "source": [
    "laplaceGreedyMotifsReDo(dna_list, k_value, t_value)"
   ]
  },
  {
   "cell_type": "code",
   "execution_count": null,
   "id": "9576339e-44db-42ba-b60a-106c243bf37a",
   "metadata": {},
   "outputs": [],
   "source": []
  }
 ],
 "metadata": {
  "kernelspec": {
   "display_name": "Python 3 (ipykernel)",
   "language": "python",
   "name": "python3"
  },
  "language_info": {
   "codemirror_mode": {
    "name": "ipython",
    "version": 3
   },
   "file_extension": ".py",
   "mimetype": "text/x-python",
   "name": "python",
   "nbconvert_exporter": "python",
   "pygments_lexer": "ipython3",
   "version": "3.8.16"
  }
 },
 "nbformat": 4,
 "nbformat_minor": 5
}
